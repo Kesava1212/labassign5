{
  "nbformat": 4,
  "nbformat_minor": 0,
  "metadata": {
    "colab": {
      "name": "Untitled3.ipynb",
      "provenance": [],
      "collapsed_sections": [],
      "authorship_tag": "ABX9TyNYruDCWQmpdJSbSKpAJdW3",
      "include_colab_link": true
    },
    "kernelspec": {
      "name": "python3",
      "display_name": "Python 3"
    },
    "language_info": {
      "name": "python"
    }
  },
  "cells": [
    {
      "cell_type": "markdown",
      "metadata": {
        "id": "view-in-github",
        "colab_type": "text"
      },
      "source": [
        "<a href=\"https://colab.research.google.com/github/Kesava1212/labassign5/blob/main/Untitled3.ipynb\" target=\"_parent\"><img src=\"https://colab.research.google.com/assets/colab-badge.svg\" alt=\"Open In Colab\"/></a>"
      ]
    },
    {
      "cell_type": "code",
      "metadata": {
        "colab": {
          "base_uri": "https://localhost:8080/"
        },
        "id": "qr8NA3j1smwI",
        "outputId": "e480be29-c69d-4db5-8ecd-1cce7814bc5c"
      },
      "source": [
        "from abc import ABC, abstractmethod\n",
        "import math\n",
        "class Shape(ABC):\n",
        "    def __init__(self, shape):\n",
        "        self.shape = shape\n",
        "\n",
        "    @abstractmethod\n",
        "    def area(self):\n",
        "        pass\n",
        "\n",
        "class Rectangle(Shape):\n",
        "    def __init__(self, length, breadth):\n",
        "        Shape.__init__(self, 'Rectangle')\n",
        "        self.length = length\n",
        "        self.breadth = breadth\n",
        "\n",
        "    def area(self):\n",
        "        return self.length*self.breadth\n",
        "\n",
        "class Circle(Shape):\n",
        "    def __init__(self, radius):\n",
        "        Shape.__init__(self, 'Circle')\n",
        "        self.radius = radius\n",
        "\n",
        "    def area(self):\n",
        "        return round((math.pi)*(self.radius**2),2)\n",
        "\n",
        "class Square(Shape):\n",
        "    def __init__(self, side):\n",
        "        Shape.__init__(self, 'Square')\n",
        "        self.side = side\n",
        "\n",
        "    def area(self):\n",
        "        return self.side*self.side\n",
        "\n",
        "sq = Square(9)\n",
        "print(\"Area of square   :\", sq.area())\n",
        "rect = Rectangle(6,7)\n",
        "print(\"Area of rectangle:\", rect.area())\n",
        "c = Circle(8)\n",
        "print(\"Area of circle   :\", c.area())"
      ],
      "execution_count": 12,
      "outputs": [
        {
          "output_type": "stream",
          "name": "stdout",
          "text": [
            "Area of square   : 81\n",
            "Area of rectangle: 42\n",
            "Area of circle   : 201.06\n"
          ]
        }
      ]
    },
    {
      "cell_type": "code",
      "metadata": {
        "colab": {
          "base_uri": "https://localhost:8080/"
        },
        "id": "VQ7WfSsBymBt",
        "outputId": "13da7569-4cf3-4e58-d526-222ae0e415be"
      },
      "source": [
        "class Travel:\n",
        "\n",
        "  def __init__(self, passengers):\n",
        "    self.__passengers=passengers\n",
        "  @property\n",
        "  \n",
        "  def passengers(self):\n",
        "    return self.__passengers\n",
        "\n",
        "  def distance(self):\n",
        "    pass\n",
        "\n",
        "  def mode(self):\n",
        "    pass\n",
        "\n",
        "class train(Travel):\n",
        "\n",
        "  #def __init__(self, total_passangers):\n",
        "    #self.total_passangers = total_passangers\n",
        "\n",
        "  def cost_of_transport(self):\n",
        "    print(\"cost of transport by train is \",self.passengers*60)\n",
        "\n",
        "class bus(Travel):\n",
        "\n",
        "  #def __init__(self, total_passangers):\n",
        "    #self.total_passangers = total_passangers\n",
        "\n",
        "  def cost_of_transport(self):\n",
        "    print(\"cost of transport by bus is \",self.passengers*100)\n",
        "\n",
        "mode1 = train(12)\n",
        "mode1.cost_of_transport()\n",
        "\n",
        "mode2 = bus(12)\n",
        "mode2.cost_of_transport()"
      ],
      "execution_count": 16,
      "outputs": [
        {
          "output_type": "stream",
          "name": "stdout",
          "text": [
            "cost of transport by train is  720\n",
            "cost of transport by bus is  1200\n"
          ]
        }
      ]
    },
    {
      "cell_type": "code",
      "metadata": {
        "colab": {
          "base_uri": "https://localhost:8080/"
        },
        "id": "j6vGSl8g0sIQ",
        "outputId": "80ab9fff-1911-46b4-eef8-c099237584d7"
      },
      "source": [
        "class car:\n",
        "  def __init__(self,carnumber):\n",
        "    self.carnumber=carnumber\n",
        "c1=car(1998)\n",
        "c2=car(2002)\n",
        "print('the model number of c1 is',c1.carnumber)\n",
        "print('the model number of c2 is',c2.carnumber)\n",
        "print('--------------------------------')\n",
        "def carnumswap():\n",
        "  c1.carnumber,c2.carnumber=c2.carnumber,c1.carnumber\n",
        "  print(\"the model number of c1 is \",c1.carnumber)\n",
        "  print(\"the model number of c2 is \",c2.carnumber)\n",
        "carnumswap()"
      ],
      "execution_count": 17,
      "outputs": [
        {
          "output_type": "stream",
          "name": "stdout",
          "text": [
            "the model number of c1 is 1998\n",
            "the model number of c2 is 2002\n",
            "--------------------------------\n",
            "the model number of c1 is  2002\n",
            "the model number of c2 is  1998\n"
          ]
        }
      ]
    }
  ]
}